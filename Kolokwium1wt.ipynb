{
 "cells": [
  {
   "attachments": {},
   "cell_type": "markdown",
   "id": "87311733",
   "metadata": {},
   "source": [
    "## Automatyzacja-Python Kolokwium 1 - 23.05.2023\n",
    " Podczas kolokwium obowiązuje zakaz używania chatGPT oraz innych narzędzi AI oraz komunikacji z osobami z sali lub poza nią. Osoby korzystające z ww. narzędzi lub komunikatorów czy też rozmawiające z osobami z sali otrzymają 0pkt. z kolokwium. Dopuszczalne jest korzystanie z materiałów wykładowych, dokumentacji oraz stackoverflowa."
   ]
  },
  {
   "attachments": {},
   "cell_type": "markdown",
   "id": "07b7deca",
   "metadata": {},
   "source": [
    "## Zadanie 1 (4pkt)\n",
    " Napisz funkcję, która przyjmuje argumenty fi (wektor o długości 2), t, I, b, c i zwraca \n",
    " $$\n",
    " [fi_2, -\\frac{b*fi_2}{I} - \\frac{c*sin(fi_1)}{I}]\n",
    "$$\n",
    "\n",
    "\n",
    "\n"
   ]
  },
  {
   "cell_type": "code",
   "execution_count": null,
   "id": "dcf6a629",
   "metadata": {},
   "outputs": [],
   "source": []
  },
  {
   "attachments": {},
   "cell_type": "markdown",
   "id": "a74ad15d",
   "metadata": {},
   "source": [
    "## Zadanie 2 (4pkt)\n",
    "Stwórz klasę Parameters, która przechowuje 4 parametry (3 liczby i tekst) podane przy inicjalizacji oraz metodę wypisującą parametry trzymane przez klasę"
   ]
  },
  {
   "cell_type": "code",
   "execution_count": null,
   "id": "df16841e",
   "metadata": {},
   "outputs": [],
   "source": []
  },
  {
   "attachments": {},
   "cell_type": "markdown",
   "id": "9bead7ce",
   "metadata": {},
   "source": [
    "## Zadanie 3 (5pkt)\n",
    "Skompiluj program data_generator a następnie uruchom go podając plik (\"settings\") z parametrami P=4, N=40 (użyj flagi \"-set\"). Sprawdź poprawność wygenerowanych danych"
   ]
  },
  {
   "cell_type": "code",
   "execution_count": null,
   "id": "738f6017",
   "metadata": {},
   "outputs": [],
   "source": []
  },
  {
   "attachments": {},
   "cell_type": "markdown",
   "id": "7e2f6c1d",
   "metadata": {},
   "source": [
    "## Zadanie 4 (4pkt)\n",
    "Stwórz Array przechowujący obiekty klasy Parameters inicjalizowane danymi wczytanymi z pliku data.dat. Upewnij się, że dane są przekazane do obiektów zgodnie z nazewnictwem w pliku data.dat a liczby są przekazane jako liczby"
   ]
  },
  {
   "cell_type": "code",
   "execution_count": null,
   "id": "eb0a0480",
   "metadata": {},
   "outputs": [],
   "source": []
  },
  {
   "attachments": {},
   "cell_type": "markdown",
   "id": "63839346",
   "metadata": {},
   "source": [
    "## Zadanie 5 (5pt)\n",
    "Rozwiąż równanie ruchu wahadła z tłumieniem\n",
    "$$\n",
    "I\\ddot{\\theta}+b\\dot{\\theta}+csin(\\theta)\n",
    "$$\n",
    "dla wszystkich kombinacji parametrów trzymanych w instancjach klasy Parameters w stworzonym wcześniej arrayu, podaj te dane do zdefiniowanej wcześniej funkcji. Przyjmij warunek początkowy y0=[3.1, 0] oraz 0<t<15\n",
    "\n",
    "Podpowiedź: zwróć uwagę na składnię funkcji odeint"
   ]
  },
  {
   "cell_type": "code",
   "execution_count": null,
   "id": "35d7abd9",
   "metadata": {},
   "outputs": [],
   "source": []
  },
  {
   "attachments": {},
   "cell_type": "markdown",
   "id": "e5a6a517",
   "metadata": {},
   "source": [
    "## Zadanie 6 (3pkt)\n",
    "Stwórz 2 wykresy przedstawiający wszystkie rozwiązania z poprzedniego zadania, oddzielne elementy wektora z rozwiązaniem na oddzielnych wykresach."
   ]
  },
  {
   "cell_type": "code",
   "execution_count": null,
   "id": "5c836eee",
   "metadata": {},
   "outputs": [],
   "source": []
  },
  {
   "attachments": {},
   "cell_type": "markdown",
   "id": "140a5948",
   "metadata": {},
   "source": [
    "## Zadanie 7a (4pkt)\n",
    "Stwórz klasę Solution, która będzie przechowywać rozwiązanie równania ruchu wahadła jako listę oraz parametry dla których zostało ono uzyskane. Stwórz listę zawierającą obiekty ze wszystkimi rozwiązaniami. Stwórz funkcję kodującą i dekodującą. Zserializuj dane\n",
    "## LUB \n",
    "## Zadanie 7b (5pkt)\n",
    "Stwórz klasę Solution, która będzie przechowywać rozwiązanie równania ruchu wahadła jako array oraz parametry dla których zostało ono uzyskane. Stwórz listę zawierającą obiekty ze wszystkimi rozwiązaniami. Stwórz funkcję kodującą i dekodującą. Zserializuj dane"
   ]
  },
  {
   "cell_type": "code",
   "execution_count": null,
   "id": "b05bf924",
   "metadata": {},
   "outputs": [],
   "source": []
  }
 ],
 "metadata": {
  "kernelspec": {
   "display_name": "Python 3 (ipykernel)",
   "language": "python",
   "name": "python3"
  },
  "language_info": {
   "codemirror_mode": {
    "name": "ipython",
    "version": 3
   },
   "file_extension": ".py",
   "mimetype": "text/x-python",
   "name": "python",
   "nbconvert_exporter": "python",
   "pygments_lexer": "ipython3",
   "version": "3.8.10"
  }
 },
 "nbformat": 4,
 "nbformat_minor": 5
}
